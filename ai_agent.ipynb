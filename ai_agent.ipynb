{
 "cells": [
  {
   "cell_type": "code",
   "execution_count": 1,
   "metadata": {},
   "outputs": [],
   "source": [
    "with open('.env','w') as f:\n",
    "    f.write('GROQ_API_KEY=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')"
   ]
  },
  {
   "cell_type": "code",
   "execution_count": 2,
   "metadata": {},
   "outputs": [
    {
     "data": {
      "text/plain": [
       "True"
      ]
     },
     "execution_count": 2,
     "metadata": {},
     "output_type": "execute_result"
    }
   ],
   "source": [
    "from dotenv import load_dotenv\n",
    "load_dotenv()"
   ]
  },
  {
   "cell_type": "code",
   "execution_count": 3,
   "metadata": {},
   "outputs": [],
   "source": [
    "import os\n",
    "import pandas as pd \n",
    "from groq import Groq\n",
    "from langchain_groq import ChatGroq\n",
    "from langchain_experimental.agents.agent_toolkits import create_pandas_dataframe_agent\n"
   ]
  },
  {
   "cell_type": "code",
   "execution_count": 4,
   "metadata": {},
   "outputs": [],
   "source": [
    "client = Groq(api_key=os.getenv(\"GROQ_API_KEY\"))"
   ]
  },
  {
   "cell_type": "code",
   "execution_count": 5,
   "metadata": {},
   "outputs": [],
   "source": [
    "llm = ChatGroq(model_name=\"llama3-70b-8192\")\n"
   ]
  },
  {
   "cell_type": "code",
   "execution_count": 6,
   "metadata": {},
   "outputs": [],
   "source": [
    "from langchain.agents.agent_types import AgentType\n"
   ]
  },
  {
   "cell_type": "code",
   "execution_count": 13,
   "metadata": {},
   "outputs": [
    {
     "name": "stderr",
     "output_type": "stream",
     "text": [
      "<>:1: SyntaxWarning: invalid escape sequence '\\h'\n",
      "<>:1: SyntaxWarning: invalid escape sequence '\\h'\n",
      "C:\\Users\\vrajt\\AppData\\Local\\Temp\\ipykernel_20556\\4125389987.py:1: SyntaxWarning: invalid escape sequence '\\h'\n",
      "  df = pd.read_excel('D:\\healthcare_project\\healthcare.xlsx')\n"
     ]
    }
   ],
   "source": [
    "df = pd.read_excel('D:\\healthcare_project\\healthcare.xlsx')"
   ]
  },
  {
   "cell_type": "code",
   "execution_count": 15,
   "metadata": {},
   "outputs": [],
   "source": [
    "agent = create_pandas_dataframe_agent(llm, df, verbose=True, allow_dangerous_code=True)\n"
   ]
  },
  {
   "cell_type": "code",
   "execution_count": 16,
   "metadata": {},
   "outputs": [
    {
     "name": "stdout",
     "output_type": "stream",
     "text": [
      "\n",
      "\n",
      "\u001b[1m> Entering new AgentExecutor chain...\u001b[0m\n",
      "\u001b[32;1m\u001b[1;3mThought: The question is quite open-ended, but I'll try to provide some general insights about the data.\n",
      "\n",
      "Action: python_repl_ast\n",
      "Action Input: df.describe()\u001b[0m\u001b[36;1m\u001b[1;3m       Patient_ID        Age           Visit_Date\n",
      "count  100.000000  100.00000                  100\n",
      "mean   150.500000   50.63000  2024-06-15 16:33:36\n",
      "min    101.000000   18.00000  2023-12-27 00:00:00\n",
      "25%    125.750000   36.00000  2024-03-16 06:00:00\n",
      "50%    150.500000   51.00000  2024-06-20 00:00:00\n",
      "75%    175.250000   66.00000  2024-09-07 06:00:00\n",
      "max    200.000000   84.00000  2024-12-20 00:00:00\n",
      "std     29.011492   18.45478                  NaN\u001b[0m\u001b[32;1m\u001b[1;3mFrom the `describe()` output, I can see some general trends in the data:\n",
      "\n",
      "* The `Patient_ID` column seems to be uniformly distributed, with a mean of 150.5 and a standard deviation of 29.01.\n",
      "* The `Age` column has a mean of 50.63, a minimum of 18, and a maximum of 84, suggesting that the patients are mostly adults with some elderly individuals.\n",
      "* The `Visit_Date` column has a mean date of 2024-06-15, with a range of dates from 2023-12-27 to 2024-12-20, indicating that the data spans around a year.\n",
      "\n",
      "Action: python_repl_ast\n",
      "Action Input: df['Gender'].value_counts()\u001b[0m\u001b[36;1m\u001b[1;3mGender\n",
      "Female    53\n",
      "Male      47\n",
      "Name: count, dtype: int64\u001b[0m\u001b[32;1m\u001b[1;3mIt looks like the `Gender` column has a slight imbalance, with 53 females and 47 males.\n",
      "\n",
      "Action: python_repl_ast\n",
      "Action Input: df['Diagnosis'].value_counts()\u001b[0m\u001b[36;1m\u001b[1;3mDiagnosis\n",
      "Hypertension     25\n",
      "Asthma           21\n",
      "Chronic Pain     21\n",
      "Diabetes         17\n",
      "Heart Disease    16\n",
      "Name: count, dtype: int64\u001b[0m\u001b[32;1m\u001b[1;3mThe `Diagnosis` column has a diverse range of values, with `Hypertension` being the most common diagnosis, followed by `Asthma` and `Chronic Pain`.\n",
      "\n",
      "Action: python_repl_ast\n",
      "Action Input: df['Doctor'].value_counts()\u001b[0m\u001b[36;1m\u001b[1;3mDoctor\n",
      "Dr. Baker    22\n",
      "Dr. Adams    21\n",
      "Dr. Clark    20\n",
      "Dr. Davis    19\n",
      "Dr. Evans    18\n",
      "Name: count, dtype: int64\u001b[0m\u001b[32;1m\u001b[1;3mThe `Doctor` column also has a diverse range of values, with `Dr. Baker` being the most common doctor, followed by `Dr. Adams` and `Dr. Clark`.\n",
      "\n",
      "Thought: I now know the final answer\n",
      "Final Answer: The trends in the data include a uniform distribution of `Patient_ID`, a range of adult ages with some elderly individuals, a slight imbalance in `Gender` with more females, a diverse range of `Diagnosis` with `Hypertension` being the most common, and a diverse range of `Doctor` with `Dr. Baker` being the most common.\u001b[0m\n",
      "\n",
      "\u001b[1m> Finished chain.\u001b[0m\n"
     ]
    }
   ],
   "source": [
    "result = agent.invoke('give the trends in the data')\n",
    "     \n"
   ]
  },
  {
   "cell_type": "code",
   "execution_count": 17,
   "metadata": {},
   "outputs": [
    {
     "name": "stdout",
     "output_type": "stream",
     "text": [
      "The trends in the data include a uniform distribution of `Patient_ID`, a range of adult ages with some elderly individuals, a slight imbalance in `Gender` with more females, a diverse range of `Diagnosis` with `Hypertension` being the most common, and a diverse range of `Doctor` with `Dr. Baker` being the most common.\n"
     ]
    }
   ],
   "source": [
    "print(result['output'])\n",
    "     "
   ]
  }
 ],
 "metadata": {
  "kernelspec": {
   "display_name": "Python 3",
   "language": "python",
   "name": "python3"
  },
  "language_info": {
   "codemirror_mode": {
    "name": "ipython",
    "version": 3
   },
   "file_extension": ".py",
   "mimetype": "text/x-python",
   "name": "python",
   "nbconvert_exporter": "python",
   "pygments_lexer": "ipython3",
   "version": "3.12.3"
  }
 },
 "nbformat": 4,
 "nbformat_minor": 2
}
